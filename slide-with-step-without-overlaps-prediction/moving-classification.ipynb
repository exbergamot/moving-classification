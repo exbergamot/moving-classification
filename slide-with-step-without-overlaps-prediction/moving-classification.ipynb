{
 "cells": [
  {
   "cell_type": "code",
   "execution_count": 1,
   "metadata": {},
   "outputs": [
    {
     "name": "stderr",
     "output_type": "stream",
     "text": [
      "Using TensorFlow backend.\n"
     ]
    },
    {
     "data": {
      "text/plain": [
       "'2.2.0'"
      ]
     },
     "execution_count": 1,
     "metadata": {},
     "output_type": "execute_result"
    }
   ],
   "source": [
    "import keras\n",
    "keras.__version__"
   ]
  },
  {
   "cell_type": "code",
   "execution_count": 2,
   "metadata": {},
   "outputs": [],
   "source": [
    "import pandas as pd\n",
    "import numpy as np\n",
    "from sklearn.preprocessing import LabelBinarizer\n",
    "\n",
    "MEASUREMENTS_PER_SAMPLE = 100\n",
    "SAMPLE_STEP = 5\n",
    "CSV_FILE_PATH = '../gyroscope_data_updated.csv'\n",
    "\n",
    "df = pd.read_csv(CSV_FILE_PATH)"
   ]
  },
  {
   "cell_type": "code",
   "execution_count": 3,
   "metadata": {},
   "outputs": [
    {
     "name": "stdout",
     "output_type": "stream",
     "text": [
      "(45960, 7)\n",
      "(15320, 7)\n",
      "(15320, 7)\n"
     ]
    }
   ],
   "source": [
    "train_part_in_percents = 0.6\n",
    "val_part_in_percents = 0.2\n",
    "test_part_in_percents = 0.2\n",
    "\n",
    "def split(samples, train_part_in_percents, val_part_in_percents, test_part_in_percents):\n",
    "    train_part_end = int(train_part_in_percents * samples.shape[0])\n",
    "    val_part_end = train_part_end + int(val_part_in_percents * samples.shape[0])\n",
    "    test_part_end = val_part_end + int(test_part_in_percents * samples.shape[0])\n",
    "\n",
    "    train_data = samples[0:train_part_end]\n",
    "    val_data = samples[train_part_end:val_part_end]\n",
    "    test_data = samples[val_part_end:test_part_end]\n",
    "    \n",
    "    return train_data, val_data, test_data\n",
    "\n",
    "train_data_array = []\n",
    "val_data_array = []\n",
    "test_data_array = []\n",
    "\n",
    "for label in df['activity_type'].unique():\n",
    "    train_data, val_data, test_data = split(df[df['activity_type'] == label], 0.6, 0.2, 0.2)\n",
    "    train_data_array.append(train_data)\n",
    "    val_data_array.append(val_data)\n",
    "    test_data_array.append(test_data)\n",
    "\n",
    "train_df = pd.concat(train_data_array)\n",
    "val_df = pd.concat(val_data_array)\n",
    "test_df = pd.concat(test_data_array)\n",
    "\n",
    "print(train_df.shape)\n",
    "print(val_df.shape)\n",
    "print(test_df.shape)"
   ]
  },
  {
   "cell_type": "code",
   "execution_count": 4,
   "metadata": {},
   "outputs": [
    {
     "name": "stdout",
     "output_type": "stream",
     "text": [
      "(9092, 100, 6)\n",
      "(9092, 5)\n",
      "(2964, 100, 6)\n",
      "(2964, 5)\n",
      "(2964, 100, 6)\n",
      "(2964, 5)\n"
     ]
    }
   ],
   "source": [
    "def preparaSamplesAndTargets(df):\n",
    "    targets_and_samples = []\n",
    "\n",
    "    def prepareForOneLabel(label, df):\n",
    "        l_df = df[df['activity_type'] == label]\n",
    "        l_df = l_df[l_df.columns[0:-1]]\n",
    "        samples_number = (l_df.shape[0] - MEASUREMENTS_PER_SAMPLE) // SAMPLE_STEP\n",
    "    \n",
    "        def getSample(sample_index):\n",
    "            sample_start_index = sample_index * SAMPLE_STEP\n",
    "            sample_end_index = (sample_index * SAMPLE_STEP) + MEASUREMENTS_PER_SAMPLE\n",
    "        \n",
    "            return l_df[sample_start_index:sample_end_index].values.reshape(1, MEASUREMENTS_PER_SAMPLE, 6)\n",
    "    \n",
    "        return [[label, getSample(sample_index)] for sample_index in range(samples_number)]\n",
    "\n",
    "    for label in df['activity_type'].unique():\n",
    "        targets_and_samples.extend(prepareForOneLabel(label, df))\n",
    "\n",
    "    samples = np.concatenate([ts[1] for ts in targets_and_samples])\n",
    "    targets = LabelBinarizer().fit_transform(np.array([ts[0] for ts in targets_and_samples]))\n",
    "    \n",
    "    return samples, targets\n",
    "\n",
    "train_data, train_labels = preparaSamplesAndTargets(train_df)\n",
    "val_data, val_labels = preparaSamplesAndTargets(val_df)\n",
    "test_data, test_labels = preparaSamplesAndTargets(test_df)\n",
    "\n",
    "print(train_data.shape)\n",
    "print(train_labels.shape)\n",
    "\n",
    "print(val_data.shape)\n",
    "print(val_labels.shape)\n",
    "\n",
    "print(test_data.shape)\n",
    "print(test_labels.shape)"
   ]
  },
  {
   "cell_type": "code",
   "execution_count": 6,
   "metadata": {},
   "outputs": [],
   "source": [
    "def shuffleSamplesAndTargets(samples, targets):\n",
    "    randomize = np.arange(samples.shape[0])\n",
    "    np.random.shuffle(randomize)\n",
    "    samples = samples[randomize]\n",
    "    targets = targets[randomize]\n",
    "    \n",
    "    return samples, targets\n",
    "\n",
    "train_data, train_labels = shuffleSamplesAndTargets(train_data, train_labels)"
   ]
  },
  {
   "cell_type": "code",
   "execution_count": 14,
   "metadata": {},
   "outputs": [],
   "source": [
    "from keras import models\n",
    "from keras import layers\n",
    "\n",
    "model = models.Sequential()\n",
    "model.add(layers.Conv1D(32, 3, activation='relu',\n",
    "                        input_shape=(None, train_data.shape[-1])))\n",
    "model.add(layers.Conv1D(32, 3, activation='relu'))\n",
    "model.add(layers.GlobalMaxPooling1D())\n",
    "model.add(layers.Dropout(0.5))\n",
    "model.add(layers.Dense(32, activation='relu'))\n",
    "model.add(layers.Dense(test_labels.shape[-1], activation='softmax'))"
   ]
  },
  {
   "cell_type": "code",
   "execution_count": 15,
   "metadata": {},
   "outputs": [],
   "source": [
    "from keras import optimizers\n",
    "\n",
    "model.compile(optimizer=optimizers.RMSprop(lr=0.0005),\n",
    "              loss='mse',\n",
    "              metrics=['accuracy'])"
   ]
  },
  {
   "cell_type": "code",
   "execution_count": 16,
   "metadata": {},
   "outputs": [
    {
     "name": "stdout",
     "output_type": "stream",
     "text": [
      "Train on 9092 samples, validate on 2964 samples\n",
      "Epoch 1/100\n",
      "9092/9092 [==============================] - 2s 188us/step - loss: 0.2649 - acc: 0.3119 - val_loss: 0.1759 - val_acc: 0.4963\n",
      "Epoch 2/100\n",
      "9092/9092 [==============================] - 1s 129us/step - loss: 0.1790 - acc: 0.5247 - val_loss: 0.1707 - val_acc: 0.5422\n",
      "Epoch 3/100\n",
      "9092/9092 [==============================] - 1s 126us/step - loss: 0.1561 - acc: 0.5815 - val_loss: 0.2092 - val_acc: 0.4291\n",
      "Epoch 4/100\n",
      "9092/9092 [==============================] - 1s 126us/step - loss: 0.1390 - acc: 0.6183 - val_loss: 0.1557 - val_acc: 0.5739\n",
      "Epoch 5/100\n",
      "9092/9092 [==============================] - 1s 126us/step - loss: 0.1211 - acc: 0.6573 - val_loss: 0.1549 - val_acc: 0.5499\n",
      "Epoch 6/100\n",
      "9092/9092 [==============================] - 1s 128us/step - loss: 0.1070 - acc: 0.6910 - val_loss: 0.1401 - val_acc: 0.5877\n",
      "Epoch 7/100\n",
      "9092/9092 [==============================] - 1s 126us/step - loss: 0.0946 - acc: 0.7127 - val_loss: 0.1183 - val_acc: 0.6387\n",
      "Epoch 8/100\n",
      "9092/9092 [==============================] - 1s 130us/step - loss: 0.0791 - acc: 0.7504 - val_loss: 0.1150 - val_acc: 0.6387\n",
      "Epoch 9/100\n",
      "9092/9092 [==============================] - 1s 128us/step - loss: 0.0695 - acc: 0.7780 - val_loss: 0.1056 - val_acc: 0.6832\n",
      "Epoch 10/100\n",
      "9092/9092 [==============================] - 1s 130us/step - loss: 0.0587 - acc: 0.8114 - val_loss: 0.0955 - val_acc: 0.6980\n",
      "Epoch 11/100\n",
      "9092/9092 [==============================] - 1s 149us/step - loss: 0.0517 - acc: 0.8360 - val_loss: 0.0896 - val_acc: 0.7082\n",
      "Epoch 12/100\n",
      "9092/9092 [==============================] - 1s 128us/step - loss: 0.0460 - acc: 0.8521 - val_loss: 0.0883 - val_acc: 0.7092\n",
      "Epoch 13/100\n",
      "9092/9092 [==============================] - 1s 130us/step - loss: 0.0412 - acc: 0.8702 - val_loss: 0.0915 - val_acc: 0.7271\n",
      "Epoch 14/100\n",
      "9092/9092 [==============================] - 1s 127us/step - loss: 0.0378 - acc: 0.8775 - val_loss: 0.0923 - val_acc: 0.7109\n",
      "Epoch 15/100\n",
      "9092/9092 [==============================] - 1s 129us/step - loss: 0.0342 - acc: 0.8894 - val_loss: 0.0829 - val_acc: 0.7490\n",
      "Epoch 16/100\n",
      "9092/9092 [==============================] - 1s 156us/step - loss: 0.0328 - acc: 0.8955 - val_loss: 0.0837 - val_acc: 0.7443\n",
      "Epoch 17/100\n",
      "9092/9092 [==============================] - 1s 128us/step - loss: 0.0299 - acc: 0.9081 - val_loss: 0.0829 - val_acc: 0.7476\n",
      "Epoch 18/100\n",
      "9092/9092 [==============================] - 1s 128us/step - loss: 0.0280 - acc: 0.9133 - val_loss: 0.0943 - val_acc: 0.7196\n",
      "Epoch 19/100\n",
      "9092/9092 [==============================] - 1s 128us/step - loss: 0.0256 - acc: 0.9226 - val_loss: 0.0800 - val_acc: 0.7625\n",
      "Epoch 20/100\n",
      "9092/9092 [==============================] - 1s 128us/step - loss: 0.0242 - acc: 0.9233 - val_loss: 0.0812 - val_acc: 0.7628\n",
      "Epoch 21/100\n",
      "9092/9092 [==============================] - 1s 133us/step - loss: 0.0232 - acc: 0.9283 - val_loss: 0.0806 - val_acc: 0.7635\n",
      "Epoch 22/100\n",
      "9092/9092 [==============================] - 1s 138us/step - loss: 0.0217 - acc: 0.9339 - val_loss: 0.0840 - val_acc: 0.7510\n",
      "Epoch 23/100\n",
      "9092/9092 [==============================] - 1s 144us/step - loss: 0.0211 - acc: 0.9365 - val_loss: 0.0813 - val_acc: 0.7517\n",
      "Epoch 24/100\n",
      "9092/9092 [==============================] - 1s 133us/step - loss: 0.0192 - acc: 0.9425 - val_loss: 0.0814 - val_acc: 0.7578\n",
      "Epoch 25/100\n",
      "9092/9092 [==============================] - 1s 146us/step - loss: 0.0181 - acc: 0.9451 - val_loss: 0.0781 - val_acc: 0.7686\n",
      "Epoch 26/100\n",
      "9092/9092 [==============================] - 1s 133us/step - loss: 0.0168 - acc: 0.9503 - val_loss: 0.0857 - val_acc: 0.7335\n",
      "Epoch 27/100\n",
      "9092/9092 [==============================] - 1s 128us/step - loss: 0.0171 - acc: 0.9490 - val_loss: 0.0783 - val_acc: 0.7635\n",
      "Epoch 28/100\n",
      "9092/9092 [==============================] - 1s 129us/step - loss: 0.0158 - acc: 0.9528 - val_loss: 0.0704 - val_acc: 0.7804\n",
      "Epoch 29/100\n",
      "9092/9092 [==============================] - 1s 130us/step - loss: 0.0160 - acc: 0.9517 - val_loss: 0.0806 - val_acc: 0.7675\n",
      "Epoch 30/100\n",
      "9092/9092 [==============================] - 1s 141us/step - loss: 0.0159 - acc: 0.9517 - val_loss: 0.0787 - val_acc: 0.7632\n",
      "Epoch 31/100\n",
      "9092/9092 [==============================] - 1s 134us/step - loss: 0.0151 - acc: 0.9529 - val_loss: 0.0864 - val_acc: 0.7308\n",
      "Epoch 32/100\n",
      "9092/9092 [==============================] - 1s 131us/step - loss: 0.0140 - acc: 0.9577 - val_loss: 0.0817 - val_acc: 0.7524\n",
      "Epoch 33/100\n",
      "9092/9092 [==============================] - 1s 136us/step - loss: 0.0135 - acc: 0.9592 - val_loss: 0.0799 - val_acc: 0.7729\n",
      "Epoch 34/100\n",
      "9092/9092 [==============================] - 1s 137us/step - loss: 0.0134 - acc: 0.9582 - val_loss: 0.0822 - val_acc: 0.7605\n",
      "Epoch 35/100\n",
      "9092/9092 [==============================] - 1s 138us/step - loss: 0.0138 - acc: 0.9579 - val_loss: 0.0844 - val_acc: 0.7497\n",
      "Epoch 36/100\n",
      "9092/9092 [==============================] - 1s 151us/step - loss: 0.0125 - acc: 0.9619 - val_loss: 0.0819 - val_acc: 0.7642\n",
      "Epoch 37/100\n",
      "9092/9092 [==============================] - 1s 151us/step - loss: 0.0132 - acc: 0.9606 - val_loss: 0.0797 - val_acc: 0.7746\n",
      "Epoch 38/100\n",
      "9092/9092 [==============================] - 2s 178us/step - loss: 0.0118 - acc: 0.9652 - val_loss: 0.0816 - val_acc: 0.7611\n",
      "Epoch 39/100\n",
      "9092/9092 [==============================] - 2s 174us/step - loss: 0.0119 - acc: 0.9624 - val_loss: 0.0835 - val_acc: 0.7628\n",
      "Epoch 40/100\n",
      "9092/9092 [==============================] - 2s 180us/step - loss: 0.0111 - acc: 0.9677 - val_loss: 0.0819 - val_acc: 0.7672\n",
      "Epoch 41/100\n",
      "9092/9092 [==============================] - 1s 163us/step - loss: 0.0106 - acc: 0.9685 - val_loss: 0.0811 - val_acc: 0.7750\n",
      "Epoch 42/100\n",
      "9092/9092 [==============================] - 1s 153us/step - loss: 0.0108 - acc: 0.9688 - val_loss: 0.0864 - val_acc: 0.7544\n",
      "Epoch 43/100\n",
      "9092/9092 [==============================] - 1s 147us/step - loss: 0.0107 - acc: 0.9672 - val_loss: 0.0845 - val_acc: 0.7571\n",
      "Epoch 44/100\n",
      "9092/9092 [==============================] - 1s 154us/step - loss: 0.0103 - acc: 0.9694 - val_loss: 0.0864 - val_acc: 0.7510\n",
      "Epoch 45/100\n",
      "9092/9092 [==============================] - 1s 163us/step - loss: 0.0101 - acc: 0.9687 - val_loss: 0.0789 - val_acc: 0.7675\n",
      "Epoch 46/100\n",
      "9092/9092 [==============================] - 1s 152us/step - loss: 0.0092 - acc: 0.9716 - val_loss: 0.0832 - val_acc: 0.7740\n",
      "Epoch 47/100\n",
      "9092/9092 [==============================] - 1s 155us/step - loss: 0.0096 - acc: 0.9710 - val_loss: 0.0810 - val_acc: 0.7588\n",
      "Epoch 48/100\n",
      "9092/9092 [==============================] - 1s 155us/step - loss: 0.0094 - acc: 0.9718 - val_loss: 0.0887 - val_acc: 0.7439\n",
      "Epoch 49/100\n",
      "9092/9092 [==============================] - 1s 150us/step - loss: 0.0095 - acc: 0.9705 - val_loss: 0.0952 - val_acc: 0.7244\n",
      "Epoch 50/100\n",
      "9092/9092 [==============================] - 1s 151us/step - loss: 0.0095 - acc: 0.9706 - val_loss: 0.0903 - val_acc: 0.7483\n",
      "Epoch 51/100\n",
      "9092/9092 [==============================] - 1s 161us/step - loss: 0.0090 - acc: 0.9724 - val_loss: 0.0835 - val_acc: 0.7551\n",
      "Epoch 52/100\n",
      "9092/9092 [==============================] - 1s 149us/step - loss: 0.0094 - acc: 0.9715 - val_loss: 0.0804 - val_acc: 0.7659\n",
      "Epoch 53/100\n",
      "9092/9092 [==============================] - 1s 152us/step - loss: 0.0087 - acc: 0.9726 - val_loss: 0.0863 - val_acc: 0.7534\n",
      "Epoch 54/100\n",
      "9092/9092 [==============================] - 1s 148us/step - loss: 0.0094 - acc: 0.9709 - val_loss: 0.0782 - val_acc: 0.7696\n",
      "Epoch 55/100\n",
      "9092/9092 [==============================] - 1s 162us/step - loss: 0.0086 - acc: 0.9737 - val_loss: 0.0852 - val_acc: 0.7554\n",
      "Epoch 56/100\n",
      "9092/9092 [==============================] - 1s 151us/step - loss: 0.0083 - acc: 0.9751 - val_loss: 0.0865 - val_acc: 0.7540\n",
      "Epoch 57/100\n",
      "9092/9092 [==============================] - 1s 152us/step - loss: 0.0085 - acc: 0.9743 - val_loss: 0.0814 - val_acc: 0.7696\n",
      "Epoch 58/100\n",
      "9092/9092 [==============================] - 1s 156us/step - loss: 0.0087 - acc: 0.9738 - val_loss: 0.0954 - val_acc: 0.7203\n",
      "Epoch 59/100\n",
      "9092/9092 [==============================] - 1s 153us/step - loss: 0.0082 - acc: 0.9743 - val_loss: 0.0832 - val_acc: 0.7584\n",
      "Epoch 60/100\n"
     ]
    },
    {
     "name": "stdout",
     "output_type": "stream",
     "text": [
      "9092/9092 [==============================] - 1s 147us/step - loss: 0.0080 - acc: 0.9762 - val_loss: 0.0838 - val_acc: 0.7615\n",
      "Epoch 61/100\n",
      "9092/9092 [==============================] - 1s 141us/step - loss: 0.0078 - acc: 0.9757 - val_loss: 0.0905 - val_acc: 0.7335\n",
      "Epoch 62/100\n",
      "9092/9092 [==============================] - 1s 139us/step - loss: 0.0079 - acc: 0.9764 - val_loss: 0.0948 - val_acc: 0.7213\n",
      "Epoch 63/100\n",
      "9092/9092 [==============================] - 1s 154us/step - loss: 0.0073 - acc: 0.9773 - val_loss: 0.0944 - val_acc: 0.7183\n",
      "Epoch 64/100\n",
      "9092/9092 [==============================] - 1s 143us/step - loss: 0.0077 - acc: 0.9771 - val_loss: 0.0877 - val_acc: 0.7409\n",
      "Epoch 65/100\n",
      "9092/9092 [==============================] - 1s 142us/step - loss: 0.0080 - acc: 0.9760 - val_loss: 0.0873 - val_acc: 0.7480\n",
      "Epoch 66/100\n",
      "9092/9092 [==============================] - 1s 142us/step - loss: 0.0074 - acc: 0.9779 - val_loss: 0.0921 - val_acc: 0.7304\n",
      "Epoch 67/100\n",
      "9092/9092 [==============================] - 1s 143us/step - loss: 0.0075 - acc: 0.9768 - val_loss: 0.0874 - val_acc: 0.7453\n",
      "Epoch 68/100\n",
      "9092/9092 [==============================] - 1s 136us/step - loss: 0.0076 - acc: 0.9767 - val_loss: 0.0993 - val_acc: 0.7105\n",
      "Epoch 69/100\n",
      "9092/9092 [==============================] - 1s 136us/step - loss: 0.0070 - acc: 0.9780 - val_loss: 0.0815 - val_acc: 0.7696\n",
      "Epoch 70/100\n",
      "9092/9092 [==============================] - 1s 149us/step - loss: 0.0078 - acc: 0.9753 - val_loss: 0.0880 - val_acc: 0.7524\n",
      "Epoch 71/100\n",
      "9092/9092 [==============================] - 1s 142us/step - loss: 0.0071 - acc: 0.9787 - val_loss: 0.0886 - val_acc: 0.7392\n",
      "Epoch 72/100\n",
      "9092/9092 [==============================] - 1s 141us/step - loss: 0.0066 - acc: 0.9802 - val_loss: 0.0913 - val_acc: 0.7260\n",
      "Epoch 73/100\n",
      "9092/9092 [==============================] - 1s 136us/step - loss: 0.0071 - acc: 0.9787 - val_loss: 0.0951 - val_acc: 0.7213\n",
      "Epoch 74/100\n",
      "9092/9092 [==============================] - 1s 138us/step - loss: 0.0068 - acc: 0.9789 - val_loss: 0.0927 - val_acc: 0.7294\n",
      "Epoch 75/100\n",
      "9092/9092 [==============================] - 1s 143us/step - loss: 0.0062 - acc: 0.9822 - val_loss: 0.0916 - val_acc: 0.7372\n",
      "Epoch 76/100\n",
      "9092/9092 [==============================] - 1s 140us/step - loss: 0.0069 - acc: 0.9798 - val_loss: 0.0891 - val_acc: 0.7443\n",
      "Epoch 77/100\n",
      "9092/9092 [==============================] - 1s 138us/step - loss: 0.0068 - acc: 0.9792 - val_loss: 0.0893 - val_acc: 0.7433\n",
      "Epoch 78/100\n",
      "9092/9092 [==============================] - 1s 145us/step - loss: 0.0069 - acc: 0.9795 - val_loss: 0.0809 - val_acc: 0.7571\n",
      "Epoch 79/100\n",
      "9092/9092 [==============================] - 1s 144us/step - loss: 0.0068 - acc: 0.9791 - val_loss: 0.0906 - val_acc: 0.7406\n",
      "Epoch 80/100\n",
      "9092/9092 [==============================] - 1s 140us/step - loss: 0.0066 - acc: 0.9793 - val_loss: 0.0883 - val_acc: 0.7372\n",
      "Epoch 81/100\n",
      "9092/9092 [==============================] - 1s 139us/step - loss: 0.0068 - acc: 0.9793 - val_loss: 0.0881 - val_acc: 0.7540\n",
      "Epoch 82/100\n",
      "9092/9092 [==============================] - 1s 138us/step - loss: 0.0058 - acc: 0.9819 - val_loss: 0.0928 - val_acc: 0.7318\n",
      "Epoch 83/100\n",
      "9092/9092 [==============================] - 1s 138us/step - loss: 0.0060 - acc: 0.9824 - val_loss: 0.0924 - val_acc: 0.7372\n",
      "Epoch 84/100\n",
      "9092/9092 [==============================] - 1s 145us/step - loss: 0.0059 - acc: 0.9824 - val_loss: 0.0990 - val_acc: 0.7078\n",
      "Epoch 85/100\n",
      "9092/9092 [==============================] - 1s 147us/step - loss: 0.0066 - acc: 0.9794 - val_loss: 0.0885 - val_acc: 0.7456\n",
      "Epoch 86/100\n",
      "9092/9092 [==============================] - 1s 147us/step - loss: 0.0056 - acc: 0.9830 - val_loss: 0.0848 - val_acc: 0.7571\n",
      "Epoch 87/100\n",
      "9092/9092 [==============================] - 1s 143us/step - loss: 0.0057 - acc: 0.9833 - val_loss: 0.0874 - val_acc: 0.7490\n",
      "Epoch 88/100\n",
      "9092/9092 [==============================] - 1s 139us/step - loss: 0.0062 - acc: 0.9816 - val_loss: 0.0869 - val_acc: 0.7419\n",
      "Epoch 89/100\n",
      "9092/9092 [==============================] - 1s 144us/step - loss: 0.0058 - acc: 0.9820 - val_loss: 0.0872 - val_acc: 0.7453\n",
      "Epoch 90/100\n",
      "9092/9092 [==============================] - 1s 143us/step - loss: 0.0060 - acc: 0.9821 - val_loss: 0.0921 - val_acc: 0.7395\n",
      "Epoch 91/100\n",
      "9092/9092 [==============================] - 1s 141us/step - loss: 0.0061 - acc: 0.9819 - val_loss: 0.0903 - val_acc: 0.7355\n",
      "Epoch 92/100\n",
      "9092/9092 [==============================] - 1s 138us/step - loss: 0.0058 - acc: 0.9825 - val_loss: 0.0951 - val_acc: 0.7196\n",
      "Epoch 93/100\n",
      "9092/9092 [==============================] - 1s 141us/step - loss: 0.0062 - acc: 0.9812 - val_loss: 0.0900 - val_acc: 0.7362\n",
      "Epoch 94/100\n",
      "9092/9092 [==============================] - 1s 143us/step - loss: 0.0059 - acc: 0.9819 - val_loss: 0.0998 - val_acc: 0.7139\n",
      "Epoch 95/100\n",
      "9092/9092 [==============================] - 1s 139us/step - loss: 0.0066 - acc: 0.9790 - val_loss: 0.0862 - val_acc: 0.7436\n",
      "Epoch 96/100\n",
      "9092/9092 [==============================] - 1s 137us/step - loss: 0.0058 - acc: 0.9832 - val_loss: 0.0910 - val_acc: 0.7328\n",
      "Epoch 97/100\n",
      "9092/9092 [==============================] - 1s 146us/step - loss: 0.0060 - acc: 0.9824 - val_loss: 0.0963 - val_acc: 0.7156\n",
      "Epoch 98/100\n",
      "9092/9092 [==============================] - 1s 140us/step - loss: 0.0055 - acc: 0.9839 - val_loss: 0.0901 - val_acc: 0.7352\n",
      "Epoch 99/100\n",
      "9092/9092 [==============================] - 1s 138us/step - loss: 0.0052 - acc: 0.9847 - val_loss: 0.0847 - val_acc: 0.7544\n",
      "Epoch 100/100\n",
      "9092/9092 [==============================] - 1s 142us/step - loss: 0.0063 - acc: 0.9813 - val_loss: 0.0922 - val_acc: 0.7439\n",
      "CPU times: user 7min 54s, sys: 52.3 s, total: 8min 47s\n",
      "Wall time: 2min 10s\n"
     ]
    }
   ],
   "source": [
    "PATH_TO_BEST_MODEL = 'models/best_model.hdf5'\n",
    "\n",
    "callbacks = [\n",
    "    keras.callbacks.ModelCheckpoint(PATH_TO_BEST_MODEL, \n",
    "                                    monitor='val_acc', \n",
    "                                    verbose=0, \n",
    "                                    save_best_only=True, \n",
    "                                    save_weights_only=False, \n",
    "                                    mode='auto', \n",
    "                                    period=1)\n",
    "]\n",
    "\n",
    "%time history = model.fit(train_data, train_labels, epochs=100, callbacks=callbacks, batch_size=64, validation_data=(val_data, val_labels))"
   ]
  },
  {
   "cell_type": "code",
   "execution_count": 17,
   "metadata": {},
   "outputs": [
    {
     "name": "stdout",
     "output_type": "stream",
     "text": [
      "              acc     val_acc        loss    val_loss\n",
      "count  100.000000  100.000000  100.000000  100.000000\n",
      "mean     0.930058    0.729784    0.023857    0.092446\n",
      "std      0.109414    0.057658    0.040251    0.021090\n",
      "min      0.311923    0.429150    0.005177    0.070422\n",
      "25%      0.948004    0.726805    0.006813    0.082720\n",
      "50%      0.971568    0.744771    0.009372    0.087385\n",
      "75%      0.979130    0.757928    0.017356    0.092193\n",
      "max      0.984712    0.780364    0.264910    0.209204\n"
     ]
    },
    {
     "data": {
      "text/plain": [
       "<matplotlib.axes._subplots.AxesSubplot at 0x116097358>"
      ]
     },
     "execution_count": 17,
     "metadata": {},
     "output_type": "execute_result"
    },
    {
     "data": {
      "image/png": "[encoded data removed]",
      "text/plain": [
       "<Figure size 432x288 with 1 Axes>"
      ]
     },
     "metadata": {},
     "output_type": "display_data"
    },
    {
     "data": {
      "image/png": "[encoded data removed]",
      "text/plain": [
       "<Figure size 432x288 with 1 Axes>"
      ]
     },
     "metadata": {},
     "output_type": "display_data"
    },
    {
     "data": {
      "image/png": "[encoded data removed]",
      "text/plain": [
       "<Figure size 432x288 with 1 Axes>"
      ]
     },
     "metadata": {},
     "output_type": "display_data"
    },
    {
     "data": {
      "image/png": "[encoded data removed]",
      "text/plain": [
       "<Figure size 432x288 with 1 Axes>"
      ]
     },
     "metadata": {},
     "output_type": "display_data"
    }
   ],
   "source": [
    "%matplotlib inline\n",
    "\n",
    "history_df = pd.DataFrame(\n",
    "    {'acc': history.history['acc'],\n",
    "     'val_acc': history.history['val_acc'],\n",
    "     'loss': history.history['loss'],\n",
    "     'val_loss': history.history['val_loss']\n",
    "    })\n",
    "\n",
    "print(history_df.describe())\n",
    "\n",
    "history_df[['acc', 'val_acc']].plot(title='Full accuracy')\n",
    "history_df[['loss', 'val_loss']].plot(title='Full loss')\n",
    "history_df[['acc', 'val_acc']][-50:].plot(title='Last 50 epochs accuracy')\n",
    "history_df[['loss', 'val_loss']][-50:].plot(title='Last 50 epochs loss')"
   ]
  },
  {
   "cell_type": "code",
   "execution_count": 18,
   "metadata": {},
   "outputs": [],
   "source": [
    "best_model = keras.models.load_model(PATH_TO_BEST_MODEL)"
   ]
  },
  {
   "cell_type": "code",
   "execution_count": 19,
   "metadata": {},
   "outputs": [
    {
     "name": "stdout",
     "output_type": "stream",
     "text": [
      "2964/2964 [==============================] - 0s 62us/step\n"
     ]
    },
    {
     "data": {
      "text/plain": [
       "[0.14632535253972825, 0.5823211875843455]"
      ]
     },
     "execution_count": 19,
     "metadata": {},
     "output_type": "execute_result"
    }
   ],
   "source": [
    "best_model.evaluate(test_data, test_labels)"
   ]
  },
  {
   "cell_type": "code",
   "execution_count": 20,
   "metadata": {},
   "outputs": [
    {
     "data": {
      "text/plain": [
       "array([[1.7339249e-06, 3.6546916e-02, 8.1800982e-02, 3.2796815e-02,\n",
       "        8.4885359e-01]], dtype=float32)"
      ]
     },
     "execution_count": 20,
     "metadata": {},
     "output_type": "execute_result"
    }
   ],
   "source": [
    "best_model.predict(test_data[0:1])"
   ]
  },
  {
   "cell_type": "code",
   "execution_count": null,
   "metadata": {},
   "outputs": [],
   "source": []
  }
 ],
 "metadata": {
  "kernelspec": {
   "display_name": "Python 3",
   "language": "python",
   "name": "python3"
  },
  "language_info": {
   "codemirror_mode": {
    "name": "ipython",
    "version": 3
   },
   "file_extension": ".py",
   "mimetype": "text/x-python",
   "name": "python",
   "nbconvert_exporter": "python",
   "pygments_lexer": "ipython3",
   "version": "3.6.5"
  }
 },
 "nbformat": 4,
 "nbformat_minor": 2
}
