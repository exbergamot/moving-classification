{
 "cells": [
  {
   "cell_type": "code",
   "execution_count": 50,
   "metadata": {},
   "outputs": [
    {
     "data": {
      "text/plain": [
       "'2.2.0'"
      ]
     },
     "execution_count": 50,
     "metadata": {},
     "output_type": "execute_result"
    }
   ],
   "source": [
    "import keras\n",
    "keras.__version__"
   ]
  },
  {
   "cell_type": "code",
   "execution_count": 51,
   "metadata": {},
   "outputs": [
    {
     "name": "stdout",
     "output_type": "stream",
     "text": [
      "(1260, 50, 6)\n",
      "(1260, 3)\n"
     ]
    }
   ],
   "source": [
    "import csv\n",
    "import numpy as np\n",
    "from sklearn.preprocessing import LabelBinarizer\n",
    "\n",
    "csvFile = '/Users/aleksey/Main/MachineLearning/moving-classification/gyroscope_data.csv'\n",
    "numberOfMeasurementsPerSample = 50\n",
    "\n",
    "\n",
    "csvFileReader = csv.reader(open(csvFile), delimiter=',')\n",
    "linesWithoutHeader = ([x for x in csvFileReader])[1:]\n",
    "\n",
    "def removeLastColumn(lines):\n",
    "    return [line[:-1] for line in lines]\n",
    "\n",
    "def prepareDictionaryWithLabelsToSortedMeasurements(lines):\n",
    "    def filterLinesWithLabel(label, lines):\n",
    "        return [line for line in lines if line[-1] == label]\n",
    "\n",
    "    def sortByTime(lines):\n",
    "        return sorted(lines, key=lambda line: line[-2], reverse=False)\n",
    "    \n",
    "    def findUniqLabes(lines):\n",
    "        return set([line[-1] for line in lines])\n",
    "    \n",
    "    labesToFeatures = {}\n",
    "    \n",
    "    for label in findUniqLabes(lines):\n",
    "        labesToFeatures[label] = removeLastColumn(filterLinesWithLabel(label, lines))\n",
    "    \n",
    "    return labesToFeatures\n",
    "\n",
    "labelsToMeasurements = prepareDictionaryWithLabelsToSortedMeasurements(linesWithoutHeader)                                                   \n",
    "\n",
    "def prepareData(labelsToMeasurements, numberOfMeasurementsPerSample):\n",
    "    def createSamplesForLabel(label, measurements, numberOfMeasurementsPerSample):\n",
    "        numberOfSamples = len(measurements) // numberOfMeasurementsPerSample\n",
    "        \n",
    "        samples = np.zeros((numberOfSamples, numberOfMeasurementsPerSample, len(measurements[0])))\n",
    "        \n",
    "        for i in range(0, numberOfSamples):\n",
    "            measurementsPerSample = measurements[i * numberOfMeasurementsPerSample : (i + 1) * numberOfMeasurementsPerSample]\n",
    "            samples[i] = np.array(measurementsPerSample)\n",
    "        return samples\n",
    "    \n",
    "    samples = []\n",
    "    targets = []\n",
    "    \n",
    "    for label, measurements in labelsToMeasurements.items():\n",
    "        samplesOfLabel = createSamplesForLabel(label, measurements, numberOfMeasurementsPerSample)\n",
    "        \n",
    "        samples.extend(samplesOfLabel)\n",
    "        targets.extend(np.full((samplesOfLabel.shape[0]), label))\n",
    "    \n",
    "    return np.array(samples), np.array(targets)\n",
    "\n",
    "def shuffleSamplesAndTargets(samples, targets):\n",
    "    randomize = np.arange(samples.shape[0])\n",
    "    np.random.shuffle(randomize)\n",
    "    samples = samples[randomize]\n",
    "    targets = targets[randomize]\n",
    "    \n",
    "    return samples, targets\n",
    "\n",
    "samples, targets = prepareData(labelsToMeasurements, numberOfMeasurementsPerSample)\n",
    "samples, targets = shuffleSamplesAndTargets(samples, targets)\n",
    "targets = LabelBinarizer().fit_transform(targets)\n",
    "\n",
    "print(samples.shape)\n",
    "print(targets.shape)"
   ]
  },
  {
   "cell_type": "code",
   "execution_count": 52,
   "metadata": {},
   "outputs": [
    {
     "name": "stdout",
     "output_type": "stream",
     "text": [
      "(756, 50, 6)\n",
      "(756, 3)\n",
      "(252, 50, 6)\n",
      "(252, 3)\n",
      "(252, 50, 6)\n",
      "(252, 3)\n"
     ]
    }
   ],
   "source": [
    "train_part_in_percents = 0.6\n",
    "val_part_in_percents = 0.2\n",
    "test_part_in_percents = 0.2\n",
    "\n",
    "train_part_end = int(train_part_in_percents * samples.shape[0])\n",
    "val_part_end = train_part_end + int(val_part_in_percents * samples.shape[0])\n",
    "test_part_end = val_part_end + int(test_part_in_percents * samples.shape[0])\n",
    "\n",
    "train_data = samples[0:train_part_end]\n",
    "train_labels = targets[0:train_part_end]\n",
    "print(train_data.shape)\n",
    "print(train_labels.shape)\n",
    "\n",
    "val_data = samples[train_part_end:val_part_end]\n",
    "val_labels = targets[train_part_end:val_part_end]\n",
    "print(val_data.shape)\n",
    "print(val_labels.shape)\n",
    "\n",
    "test_data = samples[val_part_end:test_part_end]\n",
    "test_labels = targets[val_part_end:test_part_end]\n",
    "print(test_data.shape)\n",
    "print(test_labels.shape)"
   ]
  },
  {
   "cell_type": "code",
   "execution_count": 53,
   "metadata": {},
   "outputs": [],
   "source": [
    "from keras import models\n",
    "from keras import layers\n",
    "\n",
    "model = models.Sequential()\n",
    "model.add(layers.Conv1D(32, 3, activation='relu',\n",
    "                        input_shape=(None, train_data.shape[-1])))\n",
    "model.add(layers.MaxPooling1D(2))\n",
    "model.add(layers.Conv1D(32, 3, activation='relu'))\n",
    "model.add(layers.GRU(32, dropout=0.1, recurrent_dropout=0.5))\n",
    "model.add(layers.Dense(3, activation='softmax'))"
   ]
  },
  {
   "cell_type": "code",
   "execution_count": 54,
   "metadata": {},
   "outputs": [],
   "source": [
    "from keras import optimizers\n",
    "\n",
    "model.compile(optimizer=optimizers.RMSprop(lr=0.001),\n",
    "              loss='mse',\n",
    "              metrics=['accuracy'])"
   ]
  },
  {
   "cell_type": "code",
   "execution_count": 55,
   "metadata": {},
   "outputs": [
    {
     "name": "stdout",
     "output_type": "stream",
     "text": [
      "Train on 756 samples, validate on 252 samples\n",
      "Epoch 1/100\n",
      "756/756 [==============================] - 2s 3ms/step - loss: 0.2110 - acc: 0.4696 - val_loss: 0.1587 - val_acc: 0.6944\n",
      "Epoch 2/100\n",
      "756/756 [==============================] - 0s 460us/step - loss: 0.1734 - acc: 0.5966 - val_loss: 0.1446 - val_acc: 0.7063\n",
      "Epoch 3/100\n",
      "756/756 [==============================] - 0s 446us/step - loss: 0.1596 - acc: 0.6521 - val_loss: 0.1339 - val_acc: 0.7341\n",
      "Epoch 4/100\n",
      "756/756 [==============================] - 0s 513us/step - loss: 0.1394 - acc: 0.6799 - val_loss: 0.1270 - val_acc: 0.7500\n",
      "Epoch 5/100\n",
      "756/756 [==============================] - 0s 463us/step - loss: 0.1367 - acc: 0.7037 - val_loss: 0.1201 - val_acc: 0.7579\n",
      "Epoch 6/100\n",
      "756/756 [==============================] - 0s 461us/step - loss: 0.1237 - acc: 0.7394 - val_loss: 0.1129 - val_acc: 0.7619\n",
      "Epoch 7/100\n",
      "756/756 [==============================] - 0s 464us/step - loss: 0.1153 - acc: 0.7540 - val_loss: 0.1149 - val_acc: 0.7540\n",
      "Epoch 8/100\n",
      "756/756 [==============================] - 0s 464us/step - loss: 0.1081 - acc: 0.7698 - val_loss: 0.1058 - val_acc: 0.7659\n",
      "Epoch 9/100\n",
      "756/756 [==============================] - 0s 464us/step - loss: 0.1049 - acc: 0.7870 - val_loss: 0.0985 - val_acc: 0.7937\n",
      "Epoch 10/100\n",
      "756/756 [==============================] - 0s 464us/step - loss: 0.1020 - acc: 0.7817 - val_loss: 0.1002 - val_acc: 0.7738\n",
      "Epoch 11/100\n",
      "756/756 [==============================] - 0s 476us/step - loss: 0.0941 - acc: 0.8108 - val_loss: 0.0915 - val_acc: 0.8135\n",
      "Epoch 12/100\n",
      "756/756 [==============================] - 0s 483us/step - loss: 0.0924 - acc: 0.8135 - val_loss: 0.0901 - val_acc: 0.7976\n",
      "Epoch 13/100\n",
      "756/756 [==============================] - 0s 486us/step - loss: 0.0919 - acc: 0.8016 - val_loss: 0.0932 - val_acc: 0.7857\n",
      "Epoch 14/100\n",
      "756/756 [==============================] - 0s 509us/step - loss: 0.0851 - acc: 0.8333 - val_loss: 0.0982 - val_acc: 0.7698\n",
      "Epoch 15/100\n",
      "756/756 [==============================] - 0s 485us/step - loss: 0.0855 - acc: 0.8069 - val_loss: 0.0905 - val_acc: 0.7976\n",
      "Epoch 16/100\n",
      "756/756 [==============================] - 0s 570us/step - loss: 0.0796 - acc: 0.8373 - val_loss: 0.0845 - val_acc: 0.8214\n",
      "Epoch 17/100\n",
      "756/756 [==============================] - 0s 533us/step - loss: 0.0766 - acc: 0.8413 - val_loss: 0.0815 - val_acc: 0.8214\n",
      "Epoch 18/100\n",
      "756/756 [==============================] - 0s 467us/step - loss: 0.0752 - acc: 0.8492 - val_loss: 0.0789 - val_acc: 0.8294\n",
      "Epoch 19/100\n",
      "756/756 [==============================] - 0s 534us/step - loss: 0.0758 - acc: 0.8479 - val_loss: 0.0818 - val_acc: 0.8135\n",
      "Epoch 20/100\n",
      "756/756 [==============================] - 0s 459us/step - loss: 0.0731 - acc: 0.8532 - val_loss: 0.0792 - val_acc: 0.8333\n",
      "Epoch 21/100\n",
      "756/756 [==============================] - 0s 444us/step - loss: 0.0699 - acc: 0.8571 - val_loss: 0.0799 - val_acc: 0.8333\n",
      "Epoch 22/100\n",
      "756/756 [==============================] - 0s 465us/step - loss: 0.0654 - acc: 0.8677 - val_loss: 0.0861 - val_acc: 0.8016\n",
      "Epoch 23/100\n",
      "756/756 [==============================] - 0s 524us/step - loss: 0.0651 - acc: 0.8730 - val_loss: 0.0693 - val_acc: 0.8492\n",
      "Epoch 24/100\n",
      "756/756 [==============================] - 0s 568us/step - loss: 0.0629 - acc: 0.8757 - val_loss: 0.0721 - val_acc: 0.8492\n",
      "Epoch 25/100\n",
      "756/756 [==============================] - 0s 546us/step - loss: 0.0631 - acc: 0.8770 - val_loss: 0.0702 - val_acc: 0.8413\n",
      "Epoch 26/100\n",
      "756/756 [==============================] - 0s 550us/step - loss: 0.0570 - acc: 0.8810 - val_loss: 0.0699 - val_acc: 0.8611\n",
      "Epoch 27/100\n",
      "756/756 [==============================] - 0s 517us/step - loss: 0.0540 - acc: 0.8981 - val_loss: 0.0713 - val_acc: 0.8373\n",
      "Epoch 28/100\n",
      "756/756 [==============================] - 0s 590us/step - loss: 0.0550 - acc: 0.8889 - val_loss: 0.0791 - val_acc: 0.8175\n",
      "Epoch 29/100\n",
      "756/756 [==============================] - 0s 545us/step - loss: 0.0537 - acc: 0.8929 - val_loss: 0.0754 - val_acc: 0.8294\n",
      "Epoch 30/100\n",
      "756/756 [==============================] - 0s 502us/step - loss: 0.0496 - acc: 0.9101 - val_loss: 0.0628 - val_acc: 0.8770\n",
      "Epoch 31/100\n",
      "756/756 [==============================] - 0s 495us/step - loss: 0.0416 - acc: 0.9365 - val_loss: 0.0589 - val_acc: 0.8810\n",
      "Epoch 32/100\n",
      "756/756 [==============================] - 0s 544us/step - loss: 0.0474 - acc: 0.9153 - val_loss: 0.0586 - val_acc: 0.8849\n",
      "Epoch 33/100\n",
      "756/756 [==============================] - 0s 527us/step - loss: 0.0420 - acc: 0.9259 - val_loss: 0.0750 - val_acc: 0.8254\n",
      "Epoch 34/100\n",
      "756/756 [==============================] - 0s 541us/step - loss: 0.0379 - acc: 0.9325 - val_loss: 0.0554 - val_acc: 0.8929\n",
      "Epoch 35/100\n",
      "756/756 [==============================] - 0s 455us/step - loss: 0.0394 - acc: 0.9233 - val_loss: 0.0567 - val_acc: 0.8849\n",
      "Epoch 36/100\n",
      "756/756 [==============================] - 0s 434us/step - loss: 0.0376 - acc: 0.9286 - val_loss: 0.0595 - val_acc: 0.8611\n",
      "Epoch 37/100\n",
      "756/756 [==============================] - 0s 481us/step - loss: 0.0389 - acc: 0.9286 - val_loss: 0.0544 - val_acc: 0.8929\n",
      "Epoch 38/100\n",
      "756/756 [==============================] - 0s 428us/step - loss: 0.0334 - acc: 0.9431 - val_loss: 0.0501 - val_acc: 0.9087\n",
      "Epoch 39/100\n",
      "756/756 [==============================] - 0s 419us/step - loss: 0.0306 - acc: 0.9511 - val_loss: 0.0531 - val_acc: 0.8968\n",
      "Epoch 40/100\n",
      "756/756 [==============================] - 0s 438us/step - loss: 0.0308 - acc: 0.9524 - val_loss: 0.0483 - val_acc: 0.9008\n",
      "Epoch 41/100\n",
      "756/756 [==============================] - 0s 461us/step - loss: 0.0288 - acc: 0.9537 - val_loss: 0.0495 - val_acc: 0.9048\n",
      "Epoch 42/100\n",
      "756/756 [==============================] - 0s 400us/step - loss: 0.0285 - acc: 0.9550 - val_loss: 0.0414 - val_acc: 0.9206\n",
      "Epoch 43/100\n",
      "756/756 [==============================] - 0s 428us/step - loss: 0.0262 - acc: 0.9643 - val_loss: 0.0498 - val_acc: 0.8929\n",
      "Epoch 44/100\n",
      "756/756 [==============================] - 0s 558us/step - loss: 0.0249 - acc: 0.9590 - val_loss: 0.0496 - val_acc: 0.8889\n",
      "Epoch 45/100\n",
      "756/756 [==============================] - 0s 563us/step - loss: 0.0259 - acc: 0.9563 - val_loss: 0.0511 - val_acc: 0.8889\n",
      "Epoch 46/100\n",
      "756/756 [==============================] - 0s 531us/step - loss: 0.0257 - acc: 0.9590 - val_loss: 0.0509 - val_acc: 0.8849\n",
      "Epoch 47/100\n",
      "756/756 [==============================] - 0s 434us/step - loss: 0.0221 - acc: 0.9669 - val_loss: 0.0457 - val_acc: 0.8968\n",
      "Epoch 48/100\n",
      "756/756 [==============================] - 0s 525us/step - loss: 0.0218 - acc: 0.9709 - val_loss: 0.0468 - val_acc: 0.8929\n",
      "Epoch 49/100\n",
      "756/756 [==============================] - 0s 506us/step - loss: 0.0179 - acc: 0.9709 - val_loss: 0.0432 - val_acc: 0.9008\n",
      "Epoch 50/100\n",
      "756/756 [==============================] - 0s 483us/step - loss: 0.0189 - acc: 0.9722 - val_loss: 0.0397 - val_acc: 0.9206\n",
      "Epoch 51/100\n",
      "756/756 [==============================] - 0s 532us/step - loss: 0.0197 - acc: 0.9696 - val_loss: 0.0527 - val_acc: 0.8770\n",
      "Epoch 52/100\n",
      "756/756 [==============================] - 0s 504us/step - loss: 0.0158 - acc: 0.9762 - val_loss: 0.0397 - val_acc: 0.9048\n",
      "Epoch 53/100\n",
      "756/756 [==============================] - 0s 503us/step - loss: 0.0184 - acc: 0.9683 - val_loss: 0.0387 - val_acc: 0.9325\n",
      "Epoch 54/100\n",
      "756/756 [==============================] - 0s 480us/step - loss: 0.0149 - acc: 0.9815 - val_loss: 0.0362 - val_acc: 0.9206\n",
      "Epoch 55/100\n",
      "756/756 [==============================] - 0s 490us/step - loss: 0.0160 - acc: 0.9722 - val_loss: 0.0369 - val_acc: 0.9127\n",
      "Epoch 56/100\n",
      "756/756 [==============================] - 0s 496us/step - loss: 0.0147 - acc: 0.9762 - val_loss: 0.0424 - val_acc: 0.9087\n",
      "Epoch 57/100\n",
      "756/756 [==============================] - 0s 501us/step - loss: 0.0172 - acc: 0.9669 - val_loss: 0.0379 - val_acc: 0.9206\n",
      "Epoch 58/100\n",
      "756/756 [==============================] - 0s 504us/step - loss: 0.0155 - acc: 0.9749 - val_loss: 0.0387 - val_acc: 0.9246\n",
      "Epoch 59/100\n",
      "756/756 [==============================] - 0s 493us/step - loss: 0.0165 - acc: 0.9656 - val_loss: 0.0399 - val_acc: 0.9127\n",
      "Epoch 60/100\n",
      "756/756 [==============================] - 0s 531us/step - loss: 0.0127 - acc: 0.9775 - val_loss: 0.0377 - val_acc: 0.9286\n"
     ]
    },
    {
     "name": "stdout",
     "output_type": "stream",
     "text": [
      "Epoch 61/100\n",
      "756/756 [==============================] - 0s 508us/step - loss: 0.0144 - acc: 0.9735 - val_loss: 0.0288 - val_acc: 0.9524\n",
      "Epoch 62/100\n",
      "756/756 [==============================] - 0s 508us/step - loss: 0.0117 - acc: 0.9828 - val_loss: 0.0328 - val_acc: 0.9286\n",
      "Epoch 63/100\n",
      "756/756 [==============================] - 0s 500us/step - loss: 0.0131 - acc: 0.9802 - val_loss: 0.0347 - val_acc: 0.9246\n",
      "Epoch 64/100\n",
      "756/756 [==============================] - 0s 494us/step - loss: 0.0124 - acc: 0.9828 - val_loss: 0.0328 - val_acc: 0.9325\n",
      "Epoch 65/100\n",
      "756/756 [==============================] - 0s 509us/step - loss: 0.0116 - acc: 0.9854 - val_loss: 0.0326 - val_acc: 0.9286\n",
      "Epoch 66/100\n",
      "756/756 [==============================] - 0s 502us/step - loss: 0.0112 - acc: 0.9828 - val_loss: 0.0341 - val_acc: 0.9325\n",
      "Epoch 67/100\n",
      "756/756 [==============================] - 0s 510us/step - loss: 0.0090 - acc: 0.9881 - val_loss: 0.0325 - val_acc: 0.9325\n",
      "Epoch 68/100\n",
      "756/756 [==============================] - 0s 499us/step - loss: 0.0112 - acc: 0.9841 - val_loss: 0.0274 - val_acc: 0.9524\n",
      "Epoch 69/100\n",
      "756/756 [==============================] - 0s 495us/step - loss: 0.0080 - acc: 0.9921 - val_loss: 0.0323 - val_acc: 0.9286\n",
      "Epoch 70/100\n",
      "756/756 [==============================] - 0s 503us/step - loss: 0.0081 - acc: 0.9854 - val_loss: 0.0255 - val_acc: 0.9524\n",
      "Epoch 71/100\n",
      "756/756 [==============================] - 0s 475us/step - loss: 0.0065 - acc: 0.9921 - val_loss: 0.0321 - val_acc: 0.9365\n",
      "Epoch 72/100\n",
      "756/756 [==============================] - 0s 494us/step - loss: 0.0091 - acc: 0.9854 - val_loss: 0.0357 - val_acc: 0.9206\n",
      "Epoch 73/100\n",
      "756/756 [==============================] - 0s 500us/step - loss: 0.0094 - acc: 0.9828 - val_loss: 0.0349 - val_acc: 0.9286\n",
      "Epoch 74/100\n",
      "756/756 [==============================] - 0s 496us/step - loss: 0.0072 - acc: 0.9894 - val_loss: 0.0282 - val_acc: 0.9444\n",
      "Epoch 75/100\n",
      "756/756 [==============================] - 0s 508us/step - loss: 0.0084 - acc: 0.9881 - val_loss: 0.0307 - val_acc: 0.9405\n",
      "Epoch 76/100\n",
      "756/756 [==============================] - 0s 476us/step - loss: 0.0072 - acc: 0.9881 - val_loss: 0.0307 - val_acc: 0.9325\n",
      "Epoch 77/100\n",
      "756/756 [==============================] - 0s 500us/step - loss: 0.0083 - acc: 0.9894 - val_loss: 0.0358 - val_acc: 0.9325\n",
      "Epoch 78/100\n",
      "756/756 [==============================] - 0s 526us/step - loss: 0.0062 - acc: 0.9921 - val_loss: 0.0340 - val_acc: 0.9286\n",
      "Epoch 79/100\n",
      "756/756 [==============================] - 0s 526us/step - loss: 0.0067 - acc: 0.9934 - val_loss: 0.0355 - val_acc: 0.9286\n",
      "Epoch 80/100\n",
      "756/756 [==============================] - 0s 531us/step - loss: 0.0073 - acc: 0.9921 - val_loss: 0.0401 - val_acc: 0.9167\n",
      "Epoch 81/100\n",
      "756/756 [==============================] - 0s 507us/step - loss: 0.0089 - acc: 0.9854 - val_loss: 0.0360 - val_acc: 0.9167\n",
      "Epoch 82/100\n",
      "756/756 [==============================] - 0s 530us/step - loss: 0.0078 - acc: 0.9881 - val_loss: 0.0307 - val_acc: 0.9286\n",
      "Epoch 83/100\n",
      "756/756 [==============================] - 0s 514us/step - loss: 0.0064 - acc: 0.9894 - val_loss: 0.0312 - val_acc: 0.9444\n",
      "Epoch 84/100\n",
      "756/756 [==============================] - 0s 517us/step - loss: 0.0060 - acc: 0.9934 - val_loss: 0.0300 - val_acc: 0.9405\n",
      "Epoch 85/100\n",
      "756/756 [==============================] - 0s 492us/step - loss: 0.0077 - acc: 0.9854 - val_loss: 0.0319 - val_acc: 0.9286\n",
      "Epoch 86/100\n",
      "756/756 [==============================] - 0s 528us/step - loss: 0.0078 - acc: 0.9854 - val_loss: 0.0327 - val_acc: 0.9246\n",
      "Epoch 87/100\n",
      "756/756 [==============================] - 0s 529us/step - loss: 0.0080 - acc: 0.9907 - val_loss: 0.0356 - val_acc: 0.9286\n",
      "Epoch 88/100\n",
      "756/756 [==============================] - 0s 510us/step - loss: 0.0077 - acc: 0.9841 - val_loss: 0.0331 - val_acc: 0.9286\n",
      "Epoch 89/100\n",
      "756/756 [==============================] - 0s 528us/step - loss: 0.0061 - acc: 0.9894 - val_loss: 0.0308 - val_acc: 0.9365\n",
      "Epoch 90/100\n",
      "756/756 [==============================] - 0s 539us/step - loss: 0.0062 - acc: 0.9881 - val_loss: 0.0247 - val_acc: 0.9444\n",
      "Epoch 91/100\n",
      "756/756 [==============================] - 0s 529us/step - loss: 0.0069 - acc: 0.9881 - val_loss: 0.0260 - val_acc: 0.9444\n",
      "Epoch 92/100\n",
      "756/756 [==============================] - 0s 524us/step - loss: 0.0052 - acc: 0.9947 - val_loss: 0.0298 - val_acc: 0.9524\n",
      "Epoch 93/100\n",
      "756/756 [==============================] - 0s 544us/step - loss: 0.0043 - acc: 0.9921 - val_loss: 0.0288 - val_acc: 0.9444\n",
      "Epoch 94/100\n",
      "756/756 [==============================] - 0s 521us/step - loss: 0.0057 - acc: 0.9921 - val_loss: 0.0305 - val_acc: 0.9286\n",
      "Epoch 95/100\n",
      "756/756 [==============================] - 0s 496us/step - loss: 0.0077 - acc: 0.9841 - val_loss: 0.0282 - val_acc: 0.9444\n",
      "Epoch 96/100\n",
      "756/756 [==============================] - 0s 505us/step - loss: 0.0037 - acc: 0.9934 - val_loss: 0.0256 - val_acc: 0.9484\n",
      "Epoch 97/100\n",
      "756/756 [==============================] - 0s 499us/step - loss: 0.0044 - acc: 0.9960 - val_loss: 0.0270 - val_acc: 0.9484\n",
      "Epoch 98/100\n",
      "756/756 [==============================] - 0s 514us/step - loss: 0.0058 - acc: 0.9907 - val_loss: 0.0323 - val_acc: 0.9325\n",
      "Epoch 99/100\n",
      "756/756 [==============================] - 0s 505us/step - loss: 0.0067 - acc: 0.9868 - val_loss: 0.0357 - val_acc: 0.9365\n",
      "Epoch 100/100\n",
      "756/756 [==============================] - 0s 508us/step - loss: 0.0047 - acc: 0.9921 - val_loss: 0.0254 - val_acc: 0.9444\n"
     ]
    }
   ],
   "source": [
    "history = model.fit(train_data,\n",
    "                    train_labels,\n",
    "                    epochs=100,\n",
    "                    batch_size=64,\n",
    "                    validation_data=(val_data, val_labels))"
   ]
  },
  {
   "cell_type": "code",
   "execution_count": 56,
   "metadata": {},
   "outputs": [
    {
     "data": {
      "image/png": "[encoded data removed]",
      "text/plain": [
       "<Figure size 432x288 with 1 Axes>"
      ]
     },
     "metadata": {},
     "output_type": "display_data"
    },
    {
     "data": {
      "image/png": "[encoded data removed]",
      "text/plain": [
       "<Figure size 432x288 with 1 Axes>"
      ]
     },
     "metadata": {},
     "output_type": "display_data"
    }
   ],
   "source": [
    "%matplotlib inline\n",
    "import matplotlib.pyplot as plt\n",
    "\n",
    "acc = history.history['acc']\n",
    "val_acc = history.history['val_acc']\n",
    "loss = history.history['loss']\n",
    "val_loss = history.history['val_loss']\n",
    "\n",
    "epochs = range(len(acc))\n",
    "\n",
    "plt.plot(epochs, acc, 'bo', label='Training acc')\n",
    "plt.plot(epochs, val_acc, 'b', label='Validation acc')\n",
    "plt.title('Training and validation accuracy')\n",
    "plt.legend()\n",
    "\n",
    "plt.figure()\n",
    "\n",
    "plt.plot(epochs, loss, 'bo', label='Training loss')\n",
    "plt.plot(epochs, val_loss, 'b', label='Validation loss')\n",
    "plt.title('Training and validation loss')\n",
    "plt.legend()\n",
    "\n",
    "plt.show()"
   ]
  },
  {
   "cell_type": "code",
   "execution_count": 57,
   "metadata": {},
   "outputs": [
    {
     "name": "stdout",
     "output_type": "stream",
     "text": [
      "252/252 [==============================] - 0s 132us/step\n"
     ]
    },
    {
     "data": {
      "text/plain": [
       "[0.026182506237149475, 0.9523809523809523]"
      ]
     },
     "execution_count": 57,
     "metadata": {},
     "output_type": "execute_result"
    }
   ],
   "source": [
    "model.evaluate(test_data, test_labels)"
   ]
  },
  {
   "cell_type": "code",
   "execution_count": 58,
   "metadata": {},
   "outputs": [
    {
     "data": {
      "text/plain": [
       "array([[0.23351125, 0.02514297, 0.7413458 ]], dtype=float32)"
      ]
     },
     "execution_count": 58,
     "metadata": {},
     "output_type": "execute_result"
    }
   ],
   "source": [
    "model.predict(test_data[0:1])"
   ]
  },
  {
   "cell_type": "code",
   "execution_count": null,
   "metadata": {},
   "outputs": [],
   "source": []
  }
 ],
 "metadata": {
  "kernelspec": {
   "display_name": "Python 3",
   "language": "python",
   "name": "python3"
  },
  "language_info": {
   "codemirror_mode": {
    "name": "ipython",
    "version": 3
   },
   "file_extension": ".py",
   "mimetype": "text/x-python",
   "name": "python",
   "nbconvert_exporter": "python",
   "pygments_lexer": "ipython3",
   "version": "3.6.5"
  }
 },
 "nbformat": 4,
 "nbformat_minor": 2
}
