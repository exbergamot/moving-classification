{
 "cells": [
  {
   "cell_type": "code",
   "execution_count": 1,
   "metadata": {},
   "outputs": [
    {
     "name": "stderr",
     "output_type": "stream",
     "text": [
      "Using TensorFlow backend.\n"
     ]
    },
    {
     "data": {
      "text/plain": [
       "'2.2.0'"
      ]
     },
     "execution_count": 1,
     "metadata": {},
     "output_type": "execute_result"
    }
   ],
   "source": [
    "import keras\n",
    "keras.__version__"
   ]
  },
  {
   "cell_type": "code",
   "execution_count": 218,
   "metadata": {},
   "outputs": [
    {
     "name": "stdout",
     "output_type": "stream",
     "text": [
      "(4199, 15, 6)\n",
      "(4199, 3)\n"
     ]
    }
   ],
   "source": [
    "import csv\n",
    "import numpy as np\n",
    "from sklearn.preprocessing import LabelBinarizer\n",
    "\n",
    "csvFile = '/Users/aleksey/Main/MachineLearning/moving-classification/gyroscope_data.csv'\n",
    "numberOfMeasurementsPerSample = 15\n",
    "\n",
    "\n",
    "csvFileReader = csv.reader(open(csvFile), delimiter=',')\n",
    "linesWithoutHeader = ([x for x in csvFileReader])[1:]\n",
    "\n",
    "def removeLastColumn(lines):\n",
    "    return [line[:-1] for line in lines]\n",
    "\n",
    "def prepareDictionaryWithLabelsToSortedMeasurements(lines):\n",
    "    def filterLinesWithLabel(label, lines):\n",
    "        return [line for line in lines if line[-1] == label]\n",
    "\n",
    "    def sortByTime(lines):\n",
    "        return sorted(lines, key=lambda line: line[-2], reverse=False)\n",
    "    \n",
    "    def findUniqLabes(lines):\n",
    "        return set([line[-1] for line in lines])\n",
    "    \n",
    "    labesToFeatures = {}\n",
    "    \n",
    "    for label in findUniqLabes(lines):\n",
    "        labesToFeatures[label] = removeLastColumn(filterLinesWithLabel(label, lines))\n",
    "    \n",
    "    return labesToFeatures\n",
    "\n",
    "labelsToMeasurements = prepareDictionaryWithLabelsToSortedMeasurements(linesWithoutHeader)                                                   \n",
    "\n",
    "def prepareData(labelsToMeasurements, numberOfMeasurementsPerSample):\n",
    "    def createSamplesForLabel(label, measurements, numberOfMeasurementsPerSample):\n",
    "        numberOfSamples = len(measurements) // numberOfMeasurementsPerSample\n",
    "        \n",
    "        samples = np.zeros((numberOfSamples, numberOfMeasurementsPerSample, len(measurements[0])))\n",
    "        \n",
    "        for i in range(0, numberOfSamples):\n",
    "            measurementsPerSample = measurements[i * numberOfMeasurementsPerSample : (i + 1) * numberOfMeasurementsPerSample]\n",
    "            samples[i] = np.array(measurementsPerSample)\n",
    "        return samples\n",
    "    \n",
    "    samples = []\n",
    "    targets = []\n",
    "    \n",
    "    for label, measurements in labelsToMeasurements.items():\n",
    "        samplesOfLabel = createSamplesForLabel(label, measurements, numberOfMeasurementsPerSample)\n",
    "        \n",
    "        samples.extend(samplesOfLabel)\n",
    "        targets.extend(np.full((samplesOfLabel.shape[0]), label))\n",
    "    \n",
    "    return np.array(samples), np.array(targets)\n",
    "\n",
    "def shuffleSamplesAndTargets(samples, targets):\n",
    "    randomize = np.arange(samples.shape[0])\n",
    "    np.random.shuffle(randomize)\n",
    "    samples = samples[randomize]\n",
    "    targets = targets[randomize]\n",
    "    \n",
    "    return samples, targets\n",
    "\n",
    "samples, targets = prepareData(labelsToMeasurements, numberOfMeasurementsPerSample)\n",
    "samples, targets = shuffleSamplesAndTargets(samples, targets)\n",
    "targets = LabelBinarizer().fit_transform(targets)\n",
    "\n",
    "print(samples.shape)\n",
    "print(targets.shape)"
   ]
  },
  {
   "cell_type": "code",
   "execution_count": 219,
   "metadata": {},
   "outputs": [
    {
     "name": "stdout",
     "output_type": "stream",
     "text": [
      "(2519, 15, 6)\n",
      "(2519, 3)\n",
      "(839, 15, 6)\n",
      "(839, 3)\n",
      "(839, 15, 6)\n",
      "(839, 3)\n"
     ]
    }
   ],
   "source": [
    "train_part_in_percents = 0.6\n",
    "val_part_in_percents = 0.2\n",
    "test_part_in_percents = 0.2\n",
    "\n",
    "train_part_end = int(train_part_in_percents * samples.shape[0])\n",
    "val_part_end = train_part_end + int(val_part_in_percents * samples.shape[0])\n",
    "test_part_end = val_part_end + int(test_part_in_percents * samples.shape[0])\n",
    "\n",
    "train_data = samples[0:train_part_end]\n",
    "train_labels = targets[0:train_part_end]\n",
    "print(train_data.shape)\n",
    "print(train_labels.shape)\n",
    "\n",
    "val_data = samples[train_part_end:val_part_end]\n",
    "val_labels = targets[train_part_end:val_part_end]\n",
    "print(val_data.shape)\n",
    "print(val_labels.shape)\n",
    "\n",
    "test_data = samples[val_part_end:test_part_end]\n",
    "test_labels = targets[val_part_end:test_part_end]\n",
    "print(test_data.shape)\n",
    "print(test_labels.shape)"
   ]
  },
  {
   "cell_type": "code",
   "execution_count": 220,
   "metadata": {},
   "outputs": [
    {
     "data": {
      "text/plain": [
       "array([[0, 1, 0],\n",
       "       [0, 0, 1],\n",
       "       [0, 1, 0],\n",
       "       ...,\n",
       "       [1, 0, 0],\n",
       "       [0, 1, 0],\n",
       "       [0, 0, 1]])"
      ]
     },
     "execution_count": 220,
     "metadata": {},
     "output_type": "execute_result"
    }
   ],
   "source": [
    "val_labels"
   ]
  },
  {
   "cell_type": "code",
   "execution_count": 235,
   "metadata": {},
   "outputs": [],
   "source": [
    "from keras import models\n",
    "from keras import layers\n",
    "\n",
    "model = models.Sequential()\n",
    "model.add(layers.Conv1D(32, 3, activation='tanh',\n",
    "                        input_shape=(None, train_data.shape[-1])))\n",
    "model.add(layers.MaxPooling1D(3))\n",
    "model.add(layers.Conv1D(32, 3, activation='tanh'))\n",
    "model.add(layers.GRU(32, dropout=0.1, recurrent_dropout=0.5))\n",
    "model.add(layers.Dense(3, activation='tanh'))"
   ]
  },
  {
   "cell_type": "code",
   "execution_count": 232,
   "metadata": {},
   "outputs": [],
   "source": [
    "from keras import optimizers\n",
    "\n",
    "model.compile(optimizer=optimizers.RMSprop(lr=0.001),\n",
    "              loss='mse',\n",
    "              metrics=['accuracy'])"
   ]
  },
  {
   "cell_type": "code",
   "execution_count": 237,
   "metadata": {},
   "outputs": [
    {
     "name": "stdout",
     "output_type": "stream",
     "text": [
      "Train on 2519 samples, validate on 839 samples\n",
      "Epoch 1/100\n",
      "2519/2519 [==============================] - 5s 2ms/step - loss: 0.2445 - acc: 0.5026 - val_loss: 0.1726 - val_acc: 0.6257\n",
      "Epoch 2/100\n",
      "2519/2519 [==============================] - 0s 100us/step - loss: 0.1717 - acc: 0.6272 - val_loss: 0.1556 - val_acc: 0.6663\n",
      "Epoch 3/100\n",
      "2519/2519 [==============================] - 0s 98us/step - loss: 0.1559 - acc: 0.6689 - val_loss: 0.1470 - val_acc: 0.6675\n",
      "Epoch 4/100\n",
      "2519/2519 [==============================] - 0s 98us/step - loss: 0.1482 - acc: 0.6844 - val_loss: 0.1464 - val_acc: 0.6925\n",
      "Epoch 5/100\n",
      "2519/2519 [==============================] - 0s 103us/step - loss: 0.1408 - acc: 0.7054 - val_loss: 0.1371 - val_acc: 0.7056\n",
      "Epoch 6/100\n",
      "2519/2519 [==============================] - 0s 95us/step - loss: 0.1353 - acc: 0.7189 - val_loss: 0.1354 - val_acc: 0.7223\n",
      "Epoch 7/100\n",
      "2519/2519 [==============================] - 0s 94us/step - loss: 0.1306 - acc: 0.7332 - val_loss: 0.1336 - val_acc: 0.7092\n",
      "Epoch 8/100\n",
      "2519/2519 [==============================] - 0s 98us/step - loss: 0.1278 - acc: 0.7320 - val_loss: 0.1351 - val_acc: 0.7271\n",
      "Epoch 9/100\n",
      "2519/2519 [==============================] - 0s 96us/step - loss: 0.1254 - acc: 0.7435 - val_loss: 0.1306 - val_acc: 0.7092\n",
      "Epoch 10/100\n",
      "2519/2519 [==============================] - 0s 96us/step - loss: 0.1217 - acc: 0.7527 - val_loss: 0.1239 - val_acc: 0.7378\n",
      "Epoch 11/100\n",
      "2519/2519 [==============================] - 0s 102us/step - loss: 0.1197 - acc: 0.7582 - val_loss: 0.1228 - val_acc: 0.7426\n",
      "Epoch 12/100\n",
      "2519/2519 [==============================] - 0s 99us/step - loss: 0.1163 - acc: 0.7622 - val_loss: 0.1228 - val_acc: 0.7533\n",
      "Epoch 13/100\n",
      "2519/2519 [==============================] - 0s 100us/step - loss: 0.1148 - acc: 0.7642 - val_loss: 0.1197 - val_acc: 0.7461\n",
      "Epoch 14/100\n",
      "2519/2519 [==============================] - 0s 106us/step - loss: 0.1134 - acc: 0.7690 - val_loss: 0.1195 - val_acc: 0.7402\n",
      "Epoch 15/100\n",
      "2519/2519 [==============================] - 0s 98us/step - loss: 0.1107 - acc: 0.7717 - val_loss: 0.1209 - val_acc: 0.7366\n",
      "Epoch 16/100\n",
      "2519/2519 [==============================] - 0s 97us/step - loss: 0.1095 - acc: 0.7809 - val_loss: 0.1215 - val_acc: 0.7437\n",
      "Epoch 17/100\n",
      "2519/2519 [==============================] - 0s 100us/step - loss: 0.1077 - acc: 0.7781 - val_loss: 0.1168 - val_acc: 0.7342\n",
      "Epoch 18/100\n",
      "2519/2519 [==============================] - 0s 102us/step - loss: 0.1069 - acc: 0.7829 - val_loss: 0.1158 - val_acc: 0.7652\n",
      "Epoch 19/100\n",
      "2519/2519 [==============================] - 0s 95us/step - loss: 0.1050 - acc: 0.7844 - val_loss: 0.1236 - val_acc: 0.7318\n",
      "Epoch 20/100\n",
      "2519/2519 [==============================] - 0s 100us/step - loss: 0.1039 - acc: 0.7856 - val_loss: 0.1143 - val_acc: 0.7545\n",
      "Epoch 21/100\n",
      "2519/2519 [==============================] - 0s 101us/step - loss: 0.1016 - acc: 0.7940 - val_loss: 0.1174 - val_acc: 0.7592\n",
      "Epoch 22/100\n",
      "2519/2519 [==============================] - 0s 96us/step - loss: 0.1004 - acc: 0.7960 - val_loss: 0.1152 - val_acc: 0.7640\n",
      "Epoch 23/100\n",
      "2519/2519 [==============================] - 0s 95us/step - loss: 0.0996 - acc: 0.8003 - val_loss: 0.1160 - val_acc: 0.7521\n",
      "Epoch 24/100\n",
      "2519/2519 [==============================] - 0s 104us/step - loss: 0.0982 - acc: 0.8027 - val_loss: 0.1119 - val_acc: 0.7569\n",
      "Epoch 25/100\n",
      "2519/2519 [==============================] - 0s 98us/step - loss: 0.0994 - acc: 0.7956 - val_loss: 0.1152 - val_acc: 0.7521\n",
      "Epoch 26/100\n",
      "2519/2519 [==============================] - 0s 104us/step - loss: 0.0971 - acc: 0.8031 - val_loss: 0.1108 - val_acc: 0.7747\n",
      "Epoch 27/100\n",
      "2519/2519 [==============================] - 0s 100us/step - loss: 0.0945 - acc: 0.8158 - val_loss: 0.1132 - val_acc: 0.7592\n",
      "Epoch 28/100\n",
      "2519/2519 [==============================] - 0s 100us/step - loss: 0.0950 - acc: 0.8071 - val_loss: 0.1137 - val_acc: 0.7664\n",
      "Epoch 29/100\n",
      "2519/2519 [==============================] - 0s 94us/step - loss: 0.0927 - acc: 0.8098 - val_loss: 0.1124 - val_acc: 0.7580\n",
      "Epoch 30/100\n",
      "2519/2519 [==============================] - 0s 99us/step - loss: 0.0929 - acc: 0.8146 - val_loss: 0.1111 - val_acc: 0.7676\n",
      "Epoch 31/100\n",
      "2519/2519 [==============================] - 0s 104us/step - loss: 0.0921 - acc: 0.8122 - val_loss: 0.1123 - val_acc: 0.7580\n",
      "Epoch 32/100\n",
      "2519/2519 [==============================] - 0s 99us/step - loss: 0.0898 - acc: 0.8218 - val_loss: 0.1080 - val_acc: 0.7700\n",
      "Epoch 33/100\n",
      "2519/2519 [==============================] - 0s 100us/step - loss: 0.0893 - acc: 0.8229 - val_loss: 0.1093 - val_acc: 0.7652\n",
      "Epoch 34/100\n",
      "2519/2519 [==============================] - 0s 105us/step - loss: 0.0896 - acc: 0.8293 - val_loss: 0.1136 - val_acc: 0.7628\n",
      "Epoch 35/100\n",
      "2519/2519 [==============================] - 0s 98us/step - loss: 0.0883 - acc: 0.8241 - val_loss: 0.1085 - val_acc: 0.7759\n",
      "Epoch 36/100\n",
      "2519/2519 [==============================] - 0s 107us/step - loss: 0.0879 - acc: 0.8218 - val_loss: 0.1067 - val_acc: 0.7700\n",
      "Epoch 37/100\n",
      "2519/2519 [==============================] - 0s 107us/step - loss: 0.0864 - acc: 0.8281 - val_loss: 0.1081 - val_acc: 0.7652\n",
      "Epoch 38/100\n",
      "2519/2519 [==============================] - 0s 97us/step - loss: 0.0866 - acc: 0.8356 - val_loss: 0.1080 - val_acc: 0.7712\n",
      "Epoch 39/100\n",
      "2519/2519 [==============================] - 0s 97us/step - loss: 0.0852 - acc: 0.8368 - val_loss: 0.1225 - val_acc: 0.7461\n",
      "Epoch 40/100\n",
      "2519/2519 [==============================] - 0s 98us/step - loss: 0.0851 - acc: 0.8356 - val_loss: 0.1071 - val_acc: 0.7652\n",
      "Epoch 41/100\n",
      "2519/2519 [==============================] - 0s 103us/step - loss: 0.0847 - acc: 0.8388 - val_loss: 0.1087 - val_acc: 0.7640\n",
      "Epoch 42/100\n",
      "2519/2519 [==============================] - 0s 98us/step - loss: 0.0843 - acc: 0.8380 - val_loss: 0.1079 - val_acc: 0.7700\n",
      "Epoch 43/100\n",
      "2519/2519 [==============================] - 0s 100us/step - loss: 0.0831 - acc: 0.8360 - val_loss: 0.1127 - val_acc: 0.7616\n",
      "Epoch 44/100\n",
      "2519/2519 [==============================] - 0s 103us/step - loss: 0.0823 - acc: 0.8448 - val_loss: 0.1073 - val_acc: 0.7700\n",
      "Epoch 45/100\n",
      "2519/2519 [==============================] - 0s 106us/step - loss: 0.0811 - acc: 0.8472 - val_loss: 0.1094 - val_acc: 0.7759\n",
      "Epoch 46/100\n",
      "2519/2519 [==============================] - 0s 107us/step - loss: 0.0793 - acc: 0.8535 - val_loss: 0.1063 - val_acc: 0.7759\n",
      "Epoch 47/100\n",
      "2519/2519 [==============================] - 0s 117us/step - loss: 0.0803 - acc: 0.8484 - val_loss: 0.1079 - val_acc: 0.7664\n",
      "Epoch 48/100\n",
      "2519/2519 [==============================] - ETA: 0s - loss: 0.0803 - acc: 0.848 - 0s 103us/step - loss: 0.0798 - acc: 0.8507 - val_loss: 0.1078 - val_acc: 0.7676\n",
      "Epoch 49/100\n",
      "2519/2519 [==============================] - 0s 117us/step - loss: 0.0783 - acc: 0.8531 - val_loss: 0.1091 - val_acc: 0.7688\n",
      "Epoch 50/100\n",
      "2519/2519 [==============================] - 0s 106us/step - loss: 0.0792 - acc: 0.8480 - val_loss: 0.1094 - val_acc: 0.7688\n",
      "Epoch 51/100\n",
      "2519/2519 [==============================] - 0s 101us/step - loss: 0.0782 - acc: 0.8523 - val_loss: 0.1086 - val_acc: 0.7735\n",
      "Epoch 52/100\n",
      "2519/2519 [==============================] - 0s 114us/step - loss: 0.0773 - acc: 0.8531 - val_loss: 0.1052 - val_acc: 0.7771\n",
      "Epoch 53/100\n",
      "2519/2519 [==============================] - 0s 127us/step - loss: 0.0776 - acc: 0.8611 - val_loss: 0.1089 - val_acc: 0.7652\n",
      "Epoch 54/100\n",
      "2519/2519 [==============================] - 0s 108us/step - loss: 0.0761 - acc: 0.8571 - val_loss: 0.1134 - val_acc: 0.7569\n",
      "Epoch 55/100\n",
      "2519/2519 [==============================] - 0s 103us/step - loss: 0.0759 - acc: 0.8658 - val_loss: 0.1067 - val_acc: 0.7712\n",
      "Epoch 56/100\n",
      "2519/2519 [==============================] - 0s 113us/step - loss: 0.0739 - acc: 0.8682 - val_loss: 0.1086 - val_acc: 0.7688\n",
      "Epoch 57/100\n",
      "2519/2519 [==============================] - 0s 117us/step - loss: 0.0742 - acc: 0.8670 - val_loss: 0.1091 - val_acc: 0.7676\n",
      "Epoch 58/100\n",
      "2519/2519 [==============================] - 0s 116us/step - loss: 0.0735 - acc: 0.8646 - val_loss: 0.1065 - val_acc: 0.7723\n",
      "Epoch 59/100\n",
      "2519/2519 [==============================] - 0s 121us/step - loss: 0.0744 - acc: 0.8658 - val_loss: 0.1109 - val_acc: 0.7640\n"
     ]
    },
    {
     "name": "stdout",
     "output_type": "stream",
     "text": [
      "Epoch 60/100\n",
      "2519/2519 [==============================] - 0s 110us/step - loss: 0.0733 - acc: 0.8618 - val_loss: 0.1056 - val_acc: 0.7831\n",
      "Epoch 61/100\n",
      "2519/2519 [==============================] - 0s 107us/step - loss: 0.0737 - acc: 0.8642 - val_loss: 0.1067 - val_acc: 0.7771\n",
      "Epoch 62/100\n",
      "2519/2519 [==============================] - 0s 116us/step - loss: 0.0729 - acc: 0.8678 - val_loss: 0.1083 - val_acc: 0.7735\n",
      "Epoch 63/100\n",
      "2519/2519 [==============================] - 0s 111us/step - loss: 0.0731 - acc: 0.8634 - val_loss: 0.1113 - val_acc: 0.7747\n",
      "Epoch 64/100\n",
      "2519/2519 [==============================] - 0s 110us/step - loss: 0.0722 - acc: 0.8662 - val_loss: 0.1064 - val_acc: 0.7831\n",
      "Epoch 65/100\n",
      "2519/2519 [==============================] - 0s 99us/step - loss: 0.0703 - acc: 0.8777 - val_loss: 0.1082 - val_acc: 0.7795\n",
      "Epoch 66/100\n",
      "2519/2519 [==============================] - 0s 113us/step - loss: 0.0701 - acc: 0.8722 - val_loss: 0.1074 - val_acc: 0.7795\n",
      "Epoch 67/100\n",
      "2519/2519 [==============================] - 0s 116us/step - loss: 0.0702 - acc: 0.8750 - val_loss: 0.1079 - val_acc: 0.7747\n",
      "Epoch 68/100\n",
      "2519/2519 [==============================] - 0s 111us/step - loss: 0.0702 - acc: 0.8773 - val_loss: 0.1066 - val_acc: 0.7783\n",
      "Epoch 69/100\n",
      "2519/2519 [==============================] - 0s 111us/step - loss: 0.0688 - acc: 0.8773 - val_loss: 0.1093 - val_acc: 0.7735\n",
      "Epoch 70/100\n",
      "2519/2519 [==============================] - 0s 110us/step - loss: 0.0700 - acc: 0.8678 - val_loss: 0.1079 - val_acc: 0.7759\n",
      "Epoch 71/100\n",
      "2519/2519 [==============================] - 0s 110us/step - loss: 0.0681 - acc: 0.8797 - val_loss: 0.1086 - val_acc: 0.7723\n",
      "Epoch 72/100\n",
      "2519/2519 [==============================] - 0s 110us/step - loss: 0.0689 - acc: 0.8702 - val_loss: 0.1101 - val_acc: 0.7735\n",
      "Epoch 73/100\n",
      "2519/2519 [==============================] - 0s 109us/step - loss: 0.0676 - acc: 0.8757 - val_loss: 0.1105 - val_acc: 0.7700\n",
      "Epoch 74/100\n",
      "2519/2519 [==============================] - 0s 112us/step - loss: 0.0685 - acc: 0.8757 - val_loss: 0.1079 - val_acc: 0.7747\n",
      "Epoch 75/100\n",
      "2519/2519 [==============================] - 0s 101us/step - loss: 0.0685 - acc: 0.8730 - val_loss: 0.1075 - val_acc: 0.7771\n",
      "Epoch 76/100\n",
      "2519/2519 [==============================] - 0s 117us/step - loss: 0.0665 - acc: 0.8857 - val_loss: 0.1082 - val_acc: 0.7771\n",
      "Epoch 77/100\n",
      "2519/2519 [==============================] - 0s 110us/step - loss: 0.0659 - acc: 0.8825 - val_loss: 0.1091 - val_acc: 0.7783\n",
      "Epoch 78/100\n",
      "2519/2519 [==============================] - 0s 112us/step - loss: 0.0661 - acc: 0.8817 - val_loss: 0.1069 - val_acc: 0.7771\n",
      "Epoch 79/100\n",
      "2519/2519 [==============================] - 0s 107us/step - loss: 0.0658 - acc: 0.8877 - val_loss: 0.1053 - val_acc: 0.7843\n",
      "Epoch 80/100\n",
      "2519/2519 [==============================] - 0s 106us/step - loss: 0.0660 - acc: 0.8873 - val_loss: 0.1080 - val_acc: 0.7819\n",
      "Epoch 81/100\n",
      "2519/2519 [==============================] - 0s 117us/step - loss: 0.0651 - acc: 0.8813 - val_loss: 0.1068 - val_acc: 0.7819\n",
      "Epoch 82/100\n",
      "2519/2519 [==============================] - 0s 117us/step - loss: 0.0650 - acc: 0.8865 - val_loss: 0.1144 - val_acc: 0.7628\n",
      "Epoch 83/100\n",
      "2519/2519 [==============================] - 0s 118us/step - loss: 0.0646 - acc: 0.8869 - val_loss: 0.1081 - val_acc: 0.7831\n",
      "Epoch 84/100\n",
      "2519/2519 [==============================] - 0s 112us/step - loss: 0.0633 - acc: 0.8932 - val_loss: 0.1061 - val_acc: 0.7759\n",
      "Epoch 85/100\n",
      "2519/2519 [==============================] - 0s 114us/step - loss: 0.0646 - acc: 0.8845 - val_loss: 0.1044 - val_acc: 0.7855\n",
      "Epoch 86/100\n",
      "2519/2519 [==============================] - 0s 118us/step - loss: 0.0644 - acc: 0.8869 - val_loss: 0.1080 - val_acc: 0.7700\n",
      "Epoch 87/100\n",
      "2519/2519 [==============================] - 0s 122us/step - loss: 0.0629 - acc: 0.8892 - val_loss: 0.1118 - val_acc: 0.7664\n",
      "Epoch 88/100\n",
      "2519/2519 [==============================] - 0s 107us/step - loss: 0.0636 - acc: 0.8912 - val_loss: 0.1129 - val_acc: 0.7604\n",
      "Epoch 89/100\n",
      "2519/2519 [==============================] - 0s 110us/step - loss: 0.0621 - acc: 0.8928 - val_loss: 0.1103 - val_acc: 0.7700\n",
      "Epoch 90/100\n",
      "2519/2519 [==============================] - 0s 106us/step - loss: 0.0624 - acc: 0.8944 - val_loss: 0.1081 - val_acc: 0.7819\n",
      "Epoch 91/100\n",
      "2519/2519 [==============================] - 0s 109us/step - loss: 0.0612 - acc: 0.8968 - val_loss: 0.1079 - val_acc: 0.7807\n",
      "Epoch 92/100\n",
      "2519/2519 [==============================] - 0s 111us/step - loss: 0.0618 - acc: 0.8936 - val_loss: 0.1081 - val_acc: 0.7783\n",
      "Epoch 93/100\n",
      "2519/2519 [==============================] - 0s 109us/step - loss: 0.0631 - acc: 0.8956 - val_loss: 0.1075 - val_acc: 0.7831\n",
      "Epoch 94/100\n",
      "2519/2519 [==============================] - 0s 115us/step - loss: 0.0611 - acc: 0.8952 - val_loss: 0.1059 - val_acc: 0.7783\n",
      "Epoch 95/100\n",
      "2519/2519 [==============================] - 0s 110us/step - loss: 0.0619 - acc: 0.8877 - val_loss: 0.1107 - val_acc: 0.7759\n",
      "Epoch 96/100\n",
      "2519/2519 [==============================] - 0s 110us/step - loss: 0.0607 - acc: 0.8944 - val_loss: 0.1091 - val_acc: 0.7735\n",
      "Epoch 97/100\n",
      "2519/2519 [==============================] - 0s 112us/step - loss: 0.0607 - acc: 0.8980 - val_loss: 0.1072 - val_acc: 0.7867\n",
      "Epoch 98/100\n",
      "2519/2519 [==============================] - 0s 103us/step - loss: 0.0597 - acc: 0.9023 - val_loss: 0.1062 - val_acc: 0.7843\n",
      "Epoch 99/100\n",
      "2519/2519 [==============================] - 0s 120us/step - loss: 0.0593 - acc: 0.9023 - val_loss: 0.1062 - val_acc: 0.7902\n",
      "Epoch 100/100\n",
      "2519/2519 [==============================] - 0s 112us/step - loss: 0.0594 - acc: 0.8980 - val_loss: 0.1068 - val_acc: 0.7771\n"
     ]
    }
   ],
   "source": [
    "history = model.fit(train_data,\n",
    "                    train_labels,\n",
    "                    epochs=100,\n",
    "                    batch_size=64,\n",
    "                    validation_data=(val_data, val_labels))"
   ]
  },
  {
   "cell_type": "code",
   "execution_count": 238,
   "metadata": {},
   "outputs": [
    {
     "data": {
      "image/png": "[encoded data removed]",
      "text/plain": [
       "<Figure size 432x288 with 1 Axes>"
      ]
     },
     "metadata": {},
     "output_type": "display_data"
    },
    {
     "data": {
      "image/png": "[encoded data removed]",
      "text/plain": [
       "<Figure size 432x288 with 1 Axes>"
      ]
     },
     "metadata": {},
     "output_type": "display_data"
    }
   ],
   "source": [
    "%matplotlib inline\n",
    "import matplotlib.pyplot as plt\n",
    "\n",
    "acc = history.history['acc']\n",
    "val_acc = history.history['val_acc']\n",
    "loss = history.history['loss']\n",
    "val_loss = history.history['val_loss']\n",
    "\n",
    "epochs = range(len(acc))\n",
    "\n",
    "plt.plot(epochs, acc, 'bo', label='Training acc')\n",
    "plt.plot(epochs, val_acc, 'b', label='Validation acc')\n",
    "plt.title('Training and validation accuracy')\n",
    "plt.legend()\n",
    "\n",
    "plt.figure()\n",
    "\n",
    "plt.plot(epochs, loss, 'bo', label='Training loss')\n",
    "plt.plot(epochs, val_loss, 'b', label='Validation loss')\n",
    "plt.title('Training and validation loss')\n",
    "plt.legend()\n",
    "\n",
    "plt.show()"
   ]
  },
  {
   "cell_type": "code",
   "execution_count": 239,
   "metadata": {},
   "outputs": [
    {
     "name": "stdout",
     "output_type": "stream",
     "text": [
      "839/839 [==============================] - 0s 58us/step\n"
     ]
    },
    {
     "data": {
      "text/plain": [
       "[0.10201889069815287, 0.7890345649582837]"
      ]
     },
     "execution_count": 239,
     "metadata": {},
     "output_type": "execute_result"
    }
   ],
   "source": [
    "model.evaluate(test_data, test_labels)"
   ]
  },
  {
   "cell_type": "code",
   "execution_count": null,
   "metadata": {},
   "outputs": [],
   "source": []
  }
 ],
 "metadata": {
  "kernelspec": {
   "display_name": "Python 3",
   "language": "python",
   "name": "python3"
  },
  "language_info": {
   "codemirror_mode": {
    "name": "ipython",
    "version": 3
   },
   "file_extension": ".py",
   "mimetype": "text/x-python",
   "name": "python",
   "nbconvert_exporter": "python",
   "pygments_lexer": "ipython3",
   "version": "3.6.5"
  }
 },
 "nbformat": 4,
 "nbformat_minor": 2
}
